{
 "cells": [
  {
   "cell_type": "markdown",
   "metadata": {},
   "source": [
    "This script extends the simple example posed in CompareGammaDistribution by examining a generic Markov chain with forward and backward transition rates.\n",
    "\n",
    "Last updated by: Jonathan Liu, 10/20/2020"
   ]
  },
  {
   "cell_type": "code",
   "execution_count": 1,
   "metadata": {},
   "outputs": [],
   "source": [
    "#Import necessary packages\n",
    "#matplotlib inline\n",
    "import numpy as np\n",
    "from scipy.spatial import ConvexHull\n",
    "import matplotlib.pyplot as plt\n",
    "import scipy.special as sps"
   ]
  },
  {
   "cell_type": "code",
   "execution_count": 45,
   "metadata": {},
   "outputs": [],
   "source": [
    "#Simulation for calculating onset times for a generic Markov chain\n",
    "\n",
    "def CalculatetOn_GenericMarkovChain(time,dt,Q,n,N_cells):\n",
    "#Calculates the onset time for a linear Markov chain with forward and backward rates.\n",
    "#The transition rate can be time-varying, but is the same\n",
    "#global rate for each transition. The model assumes n states, beginning\n",
    "#in the 1st state. Using finite timesteps and a Markov chain formalism, it\n",
    "#simulates N_cells realizations of the overall time it takes to reach the\n",
    "#nth state.\n",
    "\n",
    "# Inputs:\n",
    "#   time: simulation time vector\n",
    "#   dt: simulation timestep\n",
    "#   Q: 3D transition rate matrix, where q_kji is the transition rate at time k from state i to j for i =/= j and \n",
    "#      q_kii is the sum of transition rates out of state i\n",
    "#   n: number of states\n",
    "#   N_cells: number of cells to simulate\n",
    "\n",
    "# Outputs:\n",
    "#   t_on: time to reach the final state for each cell (length = N_cells)\n",
    "\n",
    "## Setup variables\n",
    "    t_on = np.empty(N_cells) #Time to transition to final ON state for each cell\n",
    "    t_on[:] = np.nan\n",
    "    state = np.zeros(N_cells, dtype=int) #State vector describing current state of each cell\n",
    "    finished_states = np.zeros(N_cells, dtype=int) #Vector storing finished statuses of each cell\n",
    "\n",
    "    ## Run simulation\n",
    "    #Loop over time\n",
    "    #q = waitbar(0,'Running simulation...')\n",
    "    for i in range(len(time)):\n",
    "        if np.sum(finished_states) == N_cells: #If all cells have turned on, stop the simulation\n",
    "            #print('Halting simulation since all cells have turned on.')\n",
    "            break\n",
    "        \n",
    "        #Simulate binomial random variable to see if each cell has transitioned\n",
    "        #If the input transition rate is a nan, this will manifest as never\n",
    "        #transitioning.\n",
    "        \n",
    "        #Find indices of that have not finished yet\n",
    "        incompleteCells = np.transpose(np.where(finished_states != 1))\n",
    "        #Loop over cells\n",
    "        for j in incompleteCells:\n",
    "            #The probability that a state i switches is given by -Q_ii * dt\n",
    "            p = -Q[i,state[j],state[j]] * dt #Probability of transition at this timestep for this cell\n",
    "            transitioned = np.random.binomial(1,p,1) #Binary transition decision for this cell\n",
    "\n",
    "            #The state to transition to is given by the ratio of the individual rates in the column j over the total rate -Q_ii\n",
    "            if transitioned == 1:\n",
    "                Q_temp = np.copy(Q) #Temporary matrix where we will remove Q_ii for this cell and state\n",
    "                Q_temp[i,state[j],state[j]] = 0\n",
    "                pState = np.squeeze(Q_temp[i,:,state[j]]/-Q[i,state[j],state[j]])\n",
    "                #print(Q[i,:,:])\n",
    "                newState = np.random.choice(n, 1, p=pState)\n",
    "                #print('cell ' + str(j) + ' transitioned from state ' + str(state[j]) + \\\n",
    "                #      ' to state ' + str(newState) + 'at time ' + str(time[i]))                \n",
    "                state[j] = newState\n",
    "                \n",
    "                #Record the time if it transitioned to the new state\n",
    "                if newState == n-1:\n",
    "                    t_on[j] = time[i]\n",
    "\n",
    "        #See if any states have reached the ON state\n",
    "        finished_states[state == n-1] = 1\n",
    "    return t_on"
   ]
  },
  {
   "cell_type": "code",
   "execution_count": 3,
   "metadata": {},
   "outputs": [
    {
     "name": "stdout",
     "output_type": "stream",
     "text": [
      "Halting simulation since all cells have turned on.\n"
     ]
    }
   ],
   "source": [
    "#Test this script with the simple case of equal irreversible transitions\n",
    "\n",
    "#Function for analytical Gamma distribution\n",
    "def GamPDF(x,shape,rate):\n",
    "    return x**(shape-1)*(np.exp(-bins*rate) / sps.gamma(shape)*(1/rate)**shape)\n",
    "\n",
    "#First, with constant rate\n",
    "time = np.arange(0,10,0.1)\n",
    "dt = 0.1\n",
    "w = 1\n",
    "N_cells = 1000\n",
    "\n",
    "#Transition matrix examples\n",
    "Q_2 = np.array([[-w,0],[w,0]]) #two states\n",
    "Q_3 = np.array([[-w,0,0],[w,-w,0],[0,w,0]])\n",
    "Q_4 = np.array([[-w,0,0,0],[w,-w,0,0],[0,w,-w,0],[0,0,w,0]])\n",
    "\n",
    "#Tile into the time dimension\n",
    "Q_2_full = np.tile(Q_2,(len(time),1,1))\n",
    "Q_3_full = np.tile(Q_3,(len(time),1,1))\n",
    "Q_4_full = np.tile(Q_4,(len(time),1,1))\n",
    "\n",
    "t_on_2 = CalculatetOn_GenericMarkovChain(time,dt,Q_2_full,2,N_cells)\n",
    "t_on_3 = CalculatetOn_GenericMarkovChain(time,dt,Q_3_full,3,N_cells)\n",
    "t_on_4 = CalculatetOn_GenericMarkovChain(time,dt,Q_4_full,4,N_cells)"
   ]
  },
  {
   "cell_type": "code",
   "execution_count": 5,
   "metadata": {},
   "outputs": [
    {
     "name": "stderr",
     "output_type": "stream",
     "text": [
      "P:\\Jonathan\\Anaconda3\\lib\\site-packages\\numpy\\lib\\histograms.py:839: RuntimeWarning: invalid value encountered in greater_equal\n",
      "  keep = (tmp_a >= first_edge)\n",
      "P:\\Jonathan\\Anaconda3\\lib\\site-packages\\numpy\\lib\\histograms.py:840: RuntimeWarning: invalid value encountered in less_equal\n",
      "  keep &= (tmp_a <= last_edge)\n",
      "P:\\Jonathan\\Anaconda3\\lib\\site-packages\\numpy\\lib\\histograms.py:839: RuntimeWarning: invalid value encountered in greater_equal\n",
      "  keep = (tmp_a >= first_edge)\n",
      "P:\\Jonathan\\Anaconda3\\lib\\site-packages\\numpy\\lib\\histograms.py:840: RuntimeWarning: invalid value encountered in less_equal\n",
      "  keep &= (tmp_a <= last_edge)\n"
     ]
    },
    {
     "data": {
      "text/plain": [
       "<matplotlib.legend.Legend at 0x4b63bf220>"
      ]
     },
     "execution_count": 5,
     "metadata": {},
     "output_type": "execute_result"
    },
    {
     "data": {
      "image/png": "[encoded data removed]",
      "text/plain": [
       "<Figure size 432x288 with 1 Axes>"
      ]
     },
     "metadata": {
      "needs_background": "light"
     },
     "output_type": "display_data"
    }
   ],
   "source": [
    "#Plot the distributions\n",
    "plt.figure()\n",
    "count, bins, ignored = plt.hist(t_on_2, 30,density=True, alpha=0.5, label='n=2')\n",
    "plt.plot(bins, GamPDF(bins,1,w), linewidth=2)  \n",
    "count, bins, ignored = plt.hist(t_on_3, 30,density=True, alpha=0.5, label='n=3')\n",
    "plt.plot(bins, GamPDF(bins,2,w), linewidth=2)  \n",
    "count, bins, ignored = plt.hist(t_on_4, 30,density=True, alpha=0.5, label='n=4')\n",
    "plt.plot(bins, GamPDF(bins,3,w), linewidth=2)  \n",
    "plt.xlabel('time')\n",
    "plt.ylabel('PDF')\n",
    "plt.legend()"
   ]
  },
  {
   "cell_type": "markdown",
   "metadata": {},
   "source": [
    "Nice, it looks like it works. For next time, try laying down a grid of transition rates to calculate a crude state space area and compare with the transient regime.\n",
    "\n",
    "Eventually, we need to code up the boundary exploration algorithm."
   ]
  },
  {
   "cell_type": "markdown",
   "metadata": {},
   "source": [
    "For now, let's examine the n=2 and n=3 chains in parameter space by laying down a grid of transition rate values. We'll cap the rates at $0.5 < \\beta < 5$."
   ]
  },
  {
   "cell_type": "code",
   "execution_count": 7,
   "metadata": {},
   "outputs": [],
   "source": [
    "#Function returning the mean and variance of a Gamma distribution\n",
    "def MeanVarGamDist(shape,rate):\n",
    "    return shape/rate, shape/rate**2"
   ]
  },
  {
   "cell_type": "code",
   "execution_count": 51,
   "metadata": {},
   "outputs": [
    {
     "name": "stdout",
     "output_type": "stream",
     "text": [
      "Q_3 done\n"
     ]
    }
   ],
   "source": [
    "#Define grid of parameter values\n",
    "k_min = 1\n",
    "k_max = 5\n",
    "k_gap = 1\n",
    "k_grid = np.arange(k_min,k_max,k_gap)\n",
    "n = [2,3]\n",
    "\n",
    "#Analytical results for equal, irreversible transitions (n=2 and n=3 for now)\n",
    "meanGamma = np.zeros((len(n),len(k_grid)))\n",
    "varGamma = np.zeros((len(n),len(k_grid)))\n",
    "\n",
    "for i in range(len(n)):\n",
    "    for j in range(len(k_grid)):\n",
    "        meanGamma[i,j], varGamma[i,j] = MeanVarGamDist(n[i]-1,k_grid[j])\n",
    "\n",
    "#Note that for n=2 the Gamma distribution limit is the full state space, since n=2 is the final state\n",
    "#and we don't allow reverse transitions from the final state.\n",
    "\n",
    "#Grid of transition matrices for n=3\n",
    "Q_3 = []\n",
    "for i in range(len(k_grid)):\n",
    "    for j in range(len(k_grid)):\n",
    "        for k in range(len(k_grid)):\n",
    "            Q_3.append(np.array([[-k_grid[i],k_grid[j],0],[k_grid[i],-(k_grid[j]+k_grid[k]),0],[0,k_grid[k],0]]))\n",
    "print('Q_3 done')"
   ]
  },
  {
   "cell_type": "code",
   "execution_count": 52,
   "metadata": {},
   "outputs": [
    {
     "name": "stdout",
     "output_type": "stream",
     "text": [
      "Halting simulation since all cells have turned on.\n",
      "Halting simulation since all cells have turned on.\n",
      "Halting simulation since all cells have turned on.\n",
      "Halting simulation since all cells have turned on.\n",
      "Halting simulation since all cells have turned on.\n",
      "Halting simulation since all cells have turned on.\n",
      "Halting simulation since all cells have turned on.\n",
      "Halting simulation since all cells have turned on.\n",
      "Halting simulation since all cells have turned on.\n",
      "Halting simulation since all cells have turned on.\n",
      "Halting simulation since all cells have turned on.\n",
      "Halting simulation since all cells have turned on.\n",
      "Halting simulation since all cells have turned on.\n",
      "Halting simulation since all cells have turned on.\n",
      "Halting simulation since all cells have turned on.\n",
      "Halting simulation since all cells have turned on.\n",
      "Halting simulation since all cells have turned on.\n",
      "Halting simulation since all cells have turned on.\n",
      "Halting simulation since all cells have turned on.\n",
      "Halting simulation since all cells have turned on.\n",
      "Halting simulation since all cells have turned on.\n",
      "Halting simulation since all cells have turned on.\n",
      "Halting simulation since all cells have turned on.\n",
      "Halting simulation since all cells have turned on.\n",
      "Halting simulation since all cells have turned on.\n",
      "Halting simulation since all cells have turned on.\n",
      "Halting simulation since all cells have turned on.\n",
      "Halting simulation since all cells have turned on.\n",
      "Halting simulation since all cells have turned on.\n",
      "Halting simulation since all cells have turned on.\n",
      "Halting simulation since all cells have turned on.\n",
      "Halting simulation since all cells have turned on.\n",
      "Halting simulation since all cells have turned on.\n",
      "Halting simulation since all cells have turned on.\n",
      "Halting simulation since all cells have turned on.\n",
      "63 of 64\r"
     ]
    }
   ],
   "source": [
    "#Simulate distributions\n",
    "time = np.arange(0,10,0.1)\n",
    "dt = 0.1\n",
    "w = 1\n",
    "N_cells = 1000\n",
    "\n",
    "#n=3\n",
    "mean_3 = np.zeros(len(Q_3))\n",
    "var_3 = np.zeros(len(Q_3))\n",
    "for i in range(len(Q_3)):\n",
    "    Q_3_time = np.tile(Q_3[i],(len(time),1,1)) #Tile into the time dimension\n",
    "    t_on_3 = CalculatetOn_GenericMarkovChain(time,dt,Q_3_time,3,N_cells)\n",
    "    mean_3[i] = np.nanmean(t_on_3)\n",
    "    var_3[i] = np.nanvar(t_on_3)\n",
    "    print(str(i+1) + ' of ' + str(len(Q_3)), end='\\r')\n",
    "                "
   ]
  },
  {
   "cell_type": "code",
   "execution_count": 55,
   "metadata": {},
   "outputs": [
    {
     "data": {
      "text/plain": [
       "Text(0.5, 1.0, 'parameter space for generic Markov chains')"
      ]
     },
     "execution_count": 55,
     "metadata": {},
     "output_type": "execute_result"
    },
    {
     "data": {
      "image/png": "[encoded data removed]",
      "text/plain": [
       "<Figure size 432x288 with 1 Axes>"
      ]
     },
     "metadata": {
      "needs_background": "light"
     },
     "output_type": "display_data"
    }
   ],
   "source": [
    "#Plot results\n",
    "plt.figure()\n",
    "for i in range(len(n)):\n",
    "    plt.plot(meanGamma[i,:], varGamma[i,:], label='n = ' + str(n[i]) + ' Gamma distribution')\n",
    "plt.plot(mean_3,var_3, 'b.', label='n = 3 generic Markov chain')\n",
    "plt.xlabel('mean')\n",
    "plt.ylabel('variance')\n",
    "plt.xlim(0,2)\n",
    "plt.ylim(0,2)\n",
    "plt.legend()\n",
    "plt.title('parameter space for generic Markov chains')\n"
   ]
  },
  {
   "cell_type": "code",
   "execution_count": null,
   "metadata": {},
   "outputs": [],
   "source": [
    "a = [0] * 10\n",
    "print(a)"
   ]
  },
  {
   "cell_type": "code",
   "execution_count": null,
   "metadata": {},
   "outputs": [],
   "source": []
  }
 ],
 "metadata": {
  "kernelspec": {
   "display_name": "Python 3",
   "language": "python",
   "name": "python3"
  },
  "language_info": {
   "codemirror_mode": {
    "name": "ipython",
    "version": 3
   },
   "file_extension": ".py",
   "mimetype": "text/x-python",
   "name": "python",
   "nbconvert_exporter": "python",
   "pygments_lexer": "ipython3",
   "version": "3.8.3"
  }
 },
 "nbformat": 4,
 "nbformat_minor": 4
}
