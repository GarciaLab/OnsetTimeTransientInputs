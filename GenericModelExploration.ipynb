{
 "cells": [
  {
   "cell_type": "markdown",
   "metadata": {},
   "source": [
    "# Exploring a generic Markov model of chromatin accessibility\n",
    "\n",
    "Last updated by: Jonathan Liu, 4/23/2021\n",
    "\n",
    "Here, we will explore a generic Markov chain model of chromatin accessibility, where we model chromatin with a series of states and Markov transitions between them. Of interest is the onset time, the time it takes for the system to reach the final, transcriptionally competent state. We will indicate that the limit of equal, irreversible reactions is the limit of noise performance and that allowing for some reversibility weakens performance. We will then show that with a transient input, the model can achieve much better performance."
   ]
  },
  {
   "cell_type": "code",
   "execution_count": 1,
   "metadata": {
    "jupyter": {
     "source_hidden": true
    }
   },
   "outputs": [],
   "source": [
    "#Import necessary packages\n",
    "%matplotlib inline\n",
    "import numpy as np\n",
    "from scipy.spatial import ConvexHull\n",
    "import matplotlib.pyplot as plt\n",
    "import scipy.special as sps\n",
    "from IPython.core.debugger import set_trace\n",
    "from numba import njit, prange\n",
    "import numba as numba\n",
    "from datetime import date\n",
    "import time as Time\n",
    "import seaborn as sns\n",
    "\n",
    "#Set number of threads\n",
    "numba.set_num_threads(4)"
   ]
  },
  {
   "cell_type": "code",
   "execution_count": 2,
   "metadata": {},
   "outputs": [],
   "source": [
    "# PBoC plotting style (borrowed from Manuel's github)\n",
    "def set_plotting_style():\n",
    "    \"\"\"\n",
    "    Formats plotting enviroment to that used in Physical Biology of the Cell,\n",
    "    2nd edition. To format all plots within a script, simply execute\n",
    "    `mwc_induction_utils.set_plotting_style() in the preamble.\n",
    "    \"\"\"\n",
    "    rc = {'lines.linewidth': 1.25,\n",
    "          'axes.labelsize': 12,\n",
    "          'axes.titlesize': 12,\n",
    "          'axes.facecolor': '#E3DCD0',\n",
    "          'xtick.labelsize': 12,\n",
    "          'ytick.labelsize': 12,\n",
    "          'xtick.color': 'white',\n",
    "          'xtick.direction': 'in',\n",
    "          'xtick.top': True,\n",
    "          'xtick.bottom': True,\n",
    "          'xtick.labelcolor': 'black',\n",
    "          'ytick.color': 'white',\n",
    "          'ytick.direction': 'in',\n",
    "          'ytick.left': True,\n",
    "          'ytick.right': True,\n",
    "          'ytick.labelcolor': 'black',\n",
    "          'font.family': 'Arial',\n",
    "          #'grid.linestyle': '-', Don't use a grid\n",
    "          #'grid.linewidth': 0.5,\n",
    "          #'grid.color': '#ffffff',\n",
    "          'axes.grid': False,\n",
    "          'legend.fontsize': 8}\n",
    "    plt.rc('text.latex', preamble=r'\\usepackage{sfmath}')\n",
    "    #plt.rc('xtick.major', pad=5)\n",
    "    #plt.rc('ytick.major', pad=5)\n",
    "    plt.rc('mathtext', fontset='stixsans', sf='sansserif')\n",
    "    plt.rc('figure', figsize=[3.5, 2.5])\n",
    "    plt.rc('svg', fonttype='none')\n",
    "    plt.rc('legend', title_fontsize='12', frameon=True, \n",
    "           facecolor='#E3DCD0', framealpha=1)\n",
    "    sns.set_style('darkgrid', rc=rc)\n",
    "    sns.set_palette(\"colorblind\", color_codes=True)\n",
    "    sns.set_context('notebook', rc=rc)\n",
    "\n",
    "# Some post-modification fixes that I can't seem to set in the rcParams\n",
    "def StandardFigure(ax):\n",
    "    ax.tick_params(labelcolor='black')\n",
    "    ax.xaxis.label.set_color('black')\n",
    "    ax.yaxis.label.set_color('black')\n",
    "    \n",
    "set_plotting_style()"
   ]
  },
  {
   "cell_type": "code",
   "execution_count": 3,
   "metadata": {
    "jupyter": {
     "source_hidden": true
    }
   },
   "outputs": [],
   "source": [
    "#Function to generate a random transition matrix for a generic Markov chain with n states, and an irreversible\n",
    "#transition into the final state.\n",
    "\n",
    "#Inputs:\n",
    "#   n: number of states\n",
    "#   k_min: minimum transition rate\n",
    "#   k_max: maximum transition rate\n",
    "\n",
    "#pseudocode\n",
    "#generate 2D matrix based on n\n",
    "#loop over each index, if indices are connected by 1 then generate a value (except final state)\n",
    "#Calculate diagonal elements from summing columns to zero\n",
    "#\n",
    "\n",
    "def MakeRandomTransitionMatrix(n, k_min, k_max):\n",
    "    #Initialize the transition matrix\n",
    "    Q = np.zeros((n,n))\n",
    "    \n",
    "    #Loop through transition indices (note that the final column is all zeros since it's an absorbing state)\n",
    "    for i in range(n):\n",
    "        for j in range(n-1):\n",
    "            #If the indices are exactly one apart (i.e. adjacent states), then make a transition rate\n",
    "            if np.abs(i-j) == 1:\n",
    "                Q[i,j] = np.random.uniform(k_min,k_max)\n",
    "\n",
    "    #Calculate the diagonal elements by taking the negative of the sum of the column\n",
    "    for i in range(n-1):\n",
    "        Q[i,i] = -np.sum(Q[:,i])\n",
    "        \n",
    "    return Q\n"
   ]
  },
  {
   "cell_type": "code",
   "execution_count": 4,
   "metadata": {},
   "outputs": [],
   "source": [
    "#Function to generate a transition matrix for equal, irreversible transitions (i.e. Gamma distribution results)\n",
    "#We assume the final state is absorbing\n",
    "\n",
    "#Inputs:\n",
    "#   n: number of states\n",
    "#   k: transition rate\n",
    "\n",
    "def MakeGammaDistMatrix(n, k):\n",
    "    #Initialize the transition matrix\n",
    "    Q = np.zeros((n,n))\n",
    "    \n",
    "    #Loop through transition indices (note that the final column is all zeros since it's an absorbing state)\n",
    "    for i in range(n):\n",
    "        for j in range(n-1):\n",
    "            #All forward transitions are equal to k\n",
    "            if i == j + 1:\n",
    "                Q[i,j] = k\n",
    "\n",
    "    #Calculate the diagonal elements by taking the negative of the sum of the column\n",
    "    for i in range(n-1):\n",
    "        Q[i,i] = -np.sum(Q[:,i])\n",
    "        \n",
    "    return Q\n",
    "\n",
    "#Similar function for making a transition matrix with equal forward transitions of magnitude k and\n",
    "#equal backward transitions of magnitude k * f\n",
    "def MakeEqualBidirectionalMatrix(n, k, f):\n",
    "    #Initialize the transition matrix\n",
    "    Q = np.zeros((n,n))\n",
    "    \n",
    "    #Loop through transition indices (note that the final column is all zeros since it's an absorbing state)\n",
    "    for i in range(n):\n",
    "        for j in range(n-1):\n",
    "            #All forward transitions are equal to k\n",
    "            if i == j + 1:\n",
    "                Q[i,j] = k\n",
    "            elif i == j - 1:\n",
    "                Q[i,j] = k * f\n",
    "\n",
    "    #Calculate the diagonal elements by taking the negative of the sum of the column\n",
    "    for i in range(n-1):\n",
    "        Q[i,i] = -np.sum(Q[:,i])\n",
    "        \n",
    "    return Q\n"
   ]
  },
  {
   "cell_type": "code",
   "execution_count": 5,
   "metadata": {
    "jupyter": {
     "source_hidden": true
    }
   },
   "outputs": [],
   "source": [
    "#Simulation for calculating onset times for a generic Markov chain using Gillespie algorithm\n",
    "#Using vectorized formulation for faster speed\n",
    "\n",
    "def CalculatetOn_GenericMarkovChainGillespie(Q,n,N_cells):\n",
    "#Calculates the onset time for a linear Markov chain with forward and backward rates.\n",
    "#The transition rate can be time-varying, but is the same\n",
    "#global rate for each transition. The model assumes n states, beginning\n",
    "#in the 1st state. Using the Gillespie algorithm and a Markov chain formalism, it\n",
    "#simulates N_cells realizations of the overall time it takes to reach the\n",
    "#nth state.\n",
    "\n",
    "#For now, this only works with steady transition rates. Later we will modify this to account \n",
    "#for time-varying rates.\n",
    "\n",
    "# Inputs:\n",
    "#   Q: transition rate matrix, where q_ji is the transition rate from state i to j for i =/= j and \n",
    "#      q_ii is the sum of transition rates out of state i\n",
    "#   n: number of states\n",
    "#   N_cells: number of cells to simulate\n",
    "\n",
    "# Outputs:\n",
    "#   t_on: time to reach the final state for each cell (length = N_cells)\n",
    "\n",
    "## Setup variables\n",
    "    t_on = np.zeros(N_cells) #Time to transition to final ON state for each cell\n",
    "    state = np.zeros(N_cells, dtype=int) #State vector describing current state of each cell\n",
    "\n",
    "    ## Run simulation\n",
    "    # We will simulate waiting times for each transition for each cell and stop once each cell has\n",
    "    # reached the final state\n",
    "    \n",
    "    #Set diagonal entries in transition matrix to nan since self transitions don't count\n",
    "    for i in range(n):\n",
    "        Q[i,i] = 0\n",
    "    \n",
    "    #Construct the transition vector out of each cell's current state\n",
    "    Q_states = np.zeros((N_cells,n))\n",
    "    while np.sum(state) < (n-1)*N_cells:\n",
    "        Q_states = np.transpose(Q[:,state])\n",
    "            \n",
    "        #Generate random numbers in [0,1] for each cell\n",
    "        randNums = np.random.random(Q_states.shape)\n",
    "\n",
    "        #Calculate waiting times for each entry in the transition matrix\n",
    "        #Make sure to suppress divide by zero warning\n",
    "        with np.errstate(divide='ignore'):\n",
    "            tau = (1/Q_states) * np.log(1/randNums)\n",
    "\n",
    "        #Find the shortest waiting time to figure out which state we transitioned to for each cell\n",
    "        tau_min = np.amin(tau, axis=1)\n",
    "        newState = np.argmin(tau, axis=1)\n",
    "        \n",
    "        #Replace infinities with zero, corresponding to having reached the final state\n",
    "        newState[tau_min==np.inf] = n-1\n",
    "        tau_min[tau_min==np.inf] = 0\n",
    "        \n",
    "        #Update the state and add the waiting time to the overall waiting time\n",
    "        state = newState\n",
    "        t_on += tau_min\n",
    "    return t_on"
   ]
  },
  {
   "cell_type": "code",
   "execution_count": 6,
   "metadata": {
    "jupyter": {
     "source_hidden": true
    }
   },
   "outputs": [],
   "source": [
    "#Simulation for calculating onset times for a generic Markov chain using Gillespie algorithm\n",
    "#Using vectorized formulation for faster speed\n",
    "\n",
    "def CalculatetOn_GenericMarkovChainGillespieTime(Q,n,t_d,N_cells):\n",
    "#Calculates the onset time for a linear Markov chain with forward and backward rates.\n",
    "#The transition rate can be time-varying, but is the same\n",
    "#global rate for each transition. The model assumes n states, beginning\n",
    "#in the 1st state. Using the Gillespie algorithm and a Markov chain formalism, it\n",
    "#simulates N_cells realizations of the overall time it takes to reach the\n",
    "#nth state.\n",
    "\n",
    "#This considers time-dependent transition rates parameterized by a diffusion timescale t_d.\n",
    "#The time-dependent rate has the form r ~ (1 - exp(-t/t_d)). For now, we assume only the forwards\n",
    "#rates have the time-dependent profile, and that backwards rates are time-independent.\n",
    "\n",
    "# Inputs:\n",
    "#   Q: 3D transition rate matrix, where q_kji is the transition rate at time k from state i to j for i =/= j and \n",
    "#      q_kii is the sum of transition rates out of state i\n",
    "#   n: number of states\n",
    "#   t_d: diffusion timescale of time-dependent transition rate\n",
    "#   N_cells: number of cells to simulate\n",
    "\n",
    "# Outputs:\n",
    "#   t_on: time to reach the final state for each cell (length = N_cells)\n",
    "\n",
    "## Setup variables\n",
    "    t_on = np.zeros(N_cells) #Time to transition to final ON state for each cell\n",
    "    time = np.zeros(N_cells) #Vector of current time for each cell\n",
    "    state = np.zeros(N_cells, dtype=int) #State vector describing current state of each cell\n",
    "\n",
    "    ## Run simulation\n",
    "    # We will simulate waiting times for each transition for each cell and stop once each cell has\n",
    "    # reached the final state\n",
    "    \n",
    "    #Set diagonal entries in transition matrix to nan since self transitions don't count\n",
    "    for i in range(n):\n",
    "        Q[i,i] = 0\n",
    "        \n",
    "    #Define the diffusion timescale matrix t_d (finite for forwards rates, effectively 0 for backwards rates)\n",
    "    t_d_mat = np.zeros((n,n))\n",
    "    t_d_mat[:,:] = 0.00000001 #Non forwards transitions are essentially 0 diffusive timescale\n",
    "    for i in range(n):\n",
    "        for j in range(n-1):\n",
    "            #Forwards rates\n",
    "            if i == j + 1:\n",
    "                t_d_mat[i,j] = t_d\n",
    "    \n",
    "    #Construct the transition vector out of each cell's current state\n",
    "    Q_states = np.zeros((N_cells,n))\n",
    "    #Construct the diffusion timescale vector for each cell\n",
    "    t_d_states = np.zeros((N_cells,n))\n",
    "    while np.sum(state) < (n-1)*N_cells:\n",
    "        Q_states = np.transpose(Q[:,state])\n",
    "        t_d_states = np.transpose(t_d_mat[:,state])\n",
    "        \n",
    "        #Construct the current time vector for each cell\n",
    "        time_states = np.transpose(np.tile(time,(n,1)))\n",
    "        \n",
    "            \n",
    "        #Generate random numbers in [0,1] for each cell\n",
    "        randNums = np.random.random(Q_states.shape)\n",
    "\n",
    "        #Calculate waiting times for each entry in the transition matrix\n",
    "        #Make sure to suppress divide by zero warning\n",
    "        \n",
    "        #For the exponential profile, this uses the lambertw/productlog function. The steady-state\n",
    "        #case corresponds to t_d -> 0.\n",
    "        with np.errstate(divide='ignore', invalid='ignore'):\n",
    "            #Temp variables for readability\n",
    "            a = 1/Q_states * np.log(1/randNums)\n",
    "            b = -np.exp(-(a + t_d_states * np.exp(-time_states/t_d_states) + time_states)/t_d_states)\n",
    "            tau = np.real(t_d_states * sps.lambertw(b) + a + t_d_states *\\\n",
    "                          np.exp(-time_states / t_d_states))\n",
    "        #Find the shortest waiting time to figure out which state we transitioned to for each cell\n",
    "        tau_min = np.amin(tau, axis=1)\n",
    "        newState = np.argmin(tau, axis=1)\n",
    "        \n",
    "        #Replace infinities with zero, corresponding to having reached the final state\n",
    "        newState[tau_min==np.inf] = n-1\n",
    "        tau_min[tau_min==np.inf] = 0\n",
    "        \n",
    "        #Update the state and add the waiting time to the overall waiting time\n",
    "        state = newState\n",
    "        t_on += tau_min\n",
    "        time += tau_min\n",
    "    return t_on"
   ]
  },
  {
   "cell_type": "markdown",
   "metadata": {},
   "source": [
    "# The steady-state regime\n",
    "First, let's get a feel for the model in the steady-state case. \n",
    "\n",
    "We consider a Markov chain with $k+1$ states labeled with indices $i$, with the first state labeled with index $0$. The system will begin in state $0$ at time $t=0$ and we will assume the final state $k$ is absorbing. For example, this could correspond to the transcriptionally competent state. We will allow for forwards and backwards transition rates between all states, except for the final absorbing state, which will have no backwards transition out of it. Denote the transition from state $i$ to state $j$ with the transition rate $\\beta_{i,j}$. So,, we have the reaction network:\n",
    "\n",
    "\\begin{equation}\n",
    "0 \\underset{\\beta_{1,0}}{\\overset{\\beta_{0,1}}{\\rightleftharpoons}} 1 \\underset{\\beta_{2,1}}{\\overset{\\beta_{1,2}}{\\rightleftharpoons}} ... \\overset{\\beta_{k-1,k}}{\\rightarrow} k\n",
    "\\end{equation}\n",
    "\n",
    "We will be interested in the mean and variance of the distribution of times $P_k(t)$ to start at state $0$ and reach the final state $k$.\n",
    "\n",
    "We will first consider the simple case where the transition rates $\\beta$ are constant in time, and that we have only forward transitions that are all equal in magnitude. In this case, the distribution $P_k(t)$ is simply given by a Gamma distribution with shape parameter $k$ and rate parameter $\\beta$. $P_k(t)$ then has the form\n",
    "\n",
    "\\begin{equation}\n",
    "P_k(t) = \\frac{\\beta^k}{\\Gamma(k)}t^{k-1}e^{-\\beta t}\n",
    "\\end{equation}\n",
    "\n",
    "where $\\Gamma$ is the Gamma function. Below we show analytical and simulated results for the distribution of onset times.\n",
    "\n"
   ]
  },
  {
   "cell_type": "code",
   "execution_count": 7,
   "metadata": {},
   "outputs": [
    {
     "data": {
      "image/png": "[encoded data removed]",
      "text/plain": [
       "<Figure size 252x180 with 1 Axes>"
      ]
     },
     "metadata": {},
     "output_type": "display_data"
    }
   ],
   "source": [
    "#Let's visualize the distribution of onset times for the Gamma distribution case\n",
    "\n",
    "#Function for analytical Gamma distribution\n",
    "def GamPDF(x,shape,rate):\n",
    "    return x**(shape-1)*(np.exp(-x*rate) / sps.gamma(shape)*(1/rate)**shape)\n",
    "\n",
    "#Pick some parameters\n",
    "beta = 1 #transition rate\n",
    "n = np.array([2,3,4]) #number of states\n",
    "k = n-1 #Number of steps\n",
    "\n",
    "#Simulate the distributions\n",
    "N_cells = 10000\n",
    "\n",
    "t_on = np.zeros((len(n),N_cells))\n",
    "\n",
    "for i in range(len(n)):\n",
    "    Q = MakeGammaDistMatrix(n[i], beta) #Transition matrix\n",
    "    t_on[i,:] = CalculatetOn_GenericMarkovChainGillespie(Q,n[i],N_cells)\n",
    "    \n",
    "#Plot results\n",
    "colors = ['tab:blue','tab:red','tab:green']\n",
    "bins = np.arange(0,10,0.5)\n",
    "t = np.arange(0,10,0.1)\n",
    "ToyModelDist = plt.figure()\n",
    "#plt.title('Onset distributions for equal, irreversible transitions')\n",
    "\n",
    "for i in range(len(k)):\n",
    "    plt.hist(t_on[i,:],bins=bins,density=True,alpha=0.5,label='simulation k=' + str(k[i]),\n",
    "            color=colors[i],linewidth=0)\n",
    "    plt.plot(t,GamPDF(t,n[i]-1,beta),'--',label='theory k=' + str(k[i]),color=colors[i])\n",
    "\n",
    "plt.xlabel('onset time')\n",
    "plt.ylabel('frequency')\n",
    "plt.legend()\n",
    "StandardFigure(plt.gca())\n",
    "plt.show()"
   ]
  },
  {
   "cell_type": "markdown",
   "metadata": {},
   "source": [
    "The mean $\\mu_k$ and variance $\\sigma^2_k$ have simple analytical expressions and are given by\n",
    "\n",
    "\\begin{equation}\n",
    "\\mu_k = \\frac{k}{\\beta} \\\\\n",
    "\\sigma^2_k = \\frac{k}{\\beta^2}\n",
    "\\end{equation}\n",
    "\n",
    "For this analysis, we will consider a two-dimensional feature space consisting of the mean onset time on the x-axis and the squared CV (variance divided by square mean) in the onset time on the y-axis. The squared CV is a measure of the \"noise\" of the system at a given mean. For this simple example then:\n",
    "\n",
    "\\begin{equation}\n",
    "\\mu_k = \\frac{k}{\\beta} \\\\\n",
    "CV^2_k = \\frac{1}{k}\n",
    "\\end{equation}\n",
    "\n",
    "Thus, for this scenario with equal, irreversible reactions, the squared CV is independent of the transition rates $\\beta$ and depends only on the number of steps $k$. Plotting in our feature space results in a series of horizontal lines, with each line corresponding to the particular number of steps in the model."
   ]
  },
  {
   "cell_type": "code",
   "execution_count": 8,
   "metadata": {},
   "outputs": [
    {
     "data": {
      "image/png": "[encoded data removed]",
      "text/plain": [
       "<Figure size 252x180 with 1 Axes>"
      ]
     },
     "metadata": {},
     "output_type": "display_data"
    }
   ],
   "source": [
    "#Setting up our feature space\n",
    "beta_min = 0.5 #Minimum transition rate\n",
    "beta_max = 5 #Maximum transition rate\n",
    "beta_step = 0.1 #Resolution in transition rates\n",
    "beta_range = np.arange(beta_min,beta_max,beta_step)\n",
    "n = np.array([2,3,4,5]) #Number of states\n",
    "\n",
    "means = np.zeros((len(n),len(beta_range)))\n",
    "CV2s = np.zeros((len(n),len(beta_range)))\n",
    "\n",
    "#Simulate results\n",
    "for i in range(len(n)):\n",
    "    for j in range(len(beta_range)):\n",
    "        Q = MakeGammaDistMatrix(n[i], beta_range[j])\n",
    "        t_on = CalculatetOn_GenericMarkovChainGillespie(Q,n[i],N_cells)\n",
    "        means[i,j] = np.mean(t_on)\n",
    "        CV2s[i,j] = np.var(t_on)/np.mean(t_on)**2\n",
    "\n",
    "#Plot results\n",
    "meanVals = np.arange(0,10,0.1)\n",
    "CV2Pred = np.zeros((len(n),len(meanVals)))\n",
    "colors = ['tab:blue','tab:red','tab:green','tab:purple']\n",
    "for i in range(len(n)):\n",
    "    CV2Pred[i,:] = (1/(n[i]-1)) * np.ones(len(meanVals))\n",
    "ToyModelFeatureSpace = plt.figure()\n",
    "#plt.title('Feature space for equal, irreversible reactions')\n",
    "\n",
    "for i in range(len(n)):\n",
    "    plt.plot(means[i,:],CV2s[i,:],'.',label='simulation k=' + str(n[i]-1),color=colors[i])\n",
    "    plt.plot(meanVals,CV2Pred[i,:],'--',label='theory k=' + str(n[i]-1),color=colors[i])\n",
    "    \n",
    "plt.xlabel('mean')\n",
    "plt.ylabel('CV^2')\n",
    "plt.legend()\n",
    "StandardFigure(plt.gca())\n",
    "plt.show()"
   ]
  },
  {
   "cell_type": "markdown",
   "metadata": {},
   "source": [
    "What happens if we now allow for backwards transitions as an extension to this ideal case? We'll retain the idea of equal forward transition rates $\\beta$, but now allow for equal backwards transitions of magnitude $\\beta f$ (except from the final absorbing state $k$). \n",
    "\n",
    "\\begin{equation}\n",
    "0 \\underset{\\beta f}{\\overset{\\beta}{\\rightleftharpoons}} 1 \\underset{\\beta f}{\\overset{\\beta}{\\rightleftharpoons}} ... \\overset{\\beta}{\\rightarrow} k\n",
    "\\end{equation}\n",
    "\n",
    "We will investigate what happens when we vary $f$. Let's see what happens for $k=3$ steps."
   ]
  },
  {
   "cell_type": "code",
   "execution_count": 15,
   "metadata": {},
   "outputs": [
    {
     "data": {
      "image/png": "[encoded data removed]",
      "text/plain": [
       "<Figure size 252x180 with 1 Axes>"
      ]
     },
     "metadata": {},
     "output_type": "display_data"
    },
    {
     "data": {
      "image/png": "[encoded data removed]",
      "text/plain": [
       "<Figure size 252x180 with 1 Axes>"
      ]
     },
     "metadata": {},
     "output_type": "display_data"
    }
   ],
   "source": [
    "#Setting up parameters\n",
    "n = 3\n",
    "beta_min = 0.1\n",
    "beta_max = 5.1\n",
    "beta_step = 0.1\n",
    "beta_range = np.arange(beta_min,beta_max,beta_step)\n",
    "N_cells = 10000\n",
    "\n",
    "#Backwards transitions\n",
    "f = np.arange(0,4,1) #fractional magnitude of backwards transition relative to forwards\n",
    "means = np.zeros((len(beta_range),len(f)))\n",
    "CV2s = np.zeros((len(beta_range),len(f)))\n",
    "\n",
    "for i in range(len(beta_range)):\n",
    "    for j in range(len(f)):\n",
    "        Q = MakeEqualBidirectionalMatrix(n,beta_range[i],f[j])\n",
    "        t_on = CalculatetOn_GenericMarkovChainGillespie(Q,n,N_cells)\n",
    "        means[i,j] = np.mean(t_on)\n",
    "        CV2s[i,j] = np.var(t_on) / np.mean(t_on)**2\n",
    "            \n",
    "#Plot results\n",
    "#Distribution for fixed beta and varying f\n",
    "beta = 1\n",
    "bins = np.arange(0,20,0.5)\n",
    "t = np.arange(0,10,0.1)\n",
    "colors = ['tab:blue','tab:red','tab:green','tab:purple']\n",
    "\n",
    "BackwardsDist = plt.figure()\n",
    "\n",
    "for i in range(len(f)):\n",
    "    Q = MakeEqualBidirectionalMatrix(n,beta,f[i])\n",
    "    t_on = CalculatetOn_GenericMarkovChainGillespie(Q,n,N_cells)\n",
    "    plt.hist(t_on,bins=bins,density=True,alpha=0.3,label='f = ' + str(f[i]),\n",
    "             linewidth=0,color=colors[i])\n",
    "\n",
    "plt.xlabel('onset time')\n",
    "plt.ylabel('frequency')\n",
    "plt.legend()\n",
    "StandardFigure(plt.gca())\n",
    "plt.show()\n",
    "\n",
    "\n",
    "BackwardsFeatureSpace = plt.figure()\n",
    "#plt.title('Investigation of impact of backwards rates on feature space (k=2)')\n",
    "plt.plot((n-1)/beta_range,(1/(n-1))*np.ones(beta_range.shape),'k--',label='Gamma dist. limit')\n",
    "\n",
    "for i in range(len(f)):\n",
    "    plt.plot(means[:,i],CV2s[:,i],'.',label='f = ' + str(f[i]),color=colors[i])\n",
    "    \n",
    "plt.xlabel('mean')\n",
    "plt.ylabel('CV^2')\n",
    "plt.legend()\n",
    "StandardFigure(plt.gca())\n",
    "plt.show()"
   ]
  },
  {
   "cell_type": "markdown",
   "metadata": {},
   "source": [
    "We see that as the backwards transition rate increases, the overall noise increases! This makes intuitive sense, since with a backwards transition rate, the system is more likely to spend extra time hopping between states before reaching the final absorbing state, increasing the overall time to finish as well as the variability in finishing times.\n",
    "\n",
    "Because actual irreversible reactions are effectively impossible to achieve in reality, the performance of the Gamma distribution model (i.e. equal, irreversible forward transitions) represents a bound to the noise performance of a real system. With this more realistic scenario of backwards transitions, the overall noise is higher."
   ]
  },
  {
   "cell_type": "markdown",
   "metadata": {},
   "source": [
    "# Transients help improve noise performance\n",
    "\n",
    "In the steady-state regime, the only way to decrease the noise (i.e. squared CV) in onset times was to increase the number of steps. What about in the transient regime?\n",
    "\n",
    "Here, we will investigate the changes to this parameter space by using a transient rate $\\beta(t)$. This is of biological interest because many developmental processes occur out of steady state. For example, several models of chromatin accessibility hypothesize that the rate of chromatin state transitioning is coupled to the activity of pioneer factors like Zelda. During each rapid cell cycle division event in the early fly embryo, the nuclear membrane breaks down and reforms again, and transcription factors are expelled and re-introduced back into the nucleus. Thus, after each division event, there is a transient period during which the concentration of pioneer factors at a given gene locus is out of steady state.\n",
    "\n",
    "For now, we will assume a reasonable form for the transition rate. Let's assume that forward transition rates are mediated by the concentration of a pioneer factor like Zelda, e.g. in some on-rate fashion. Considering $\\beta$ to be a proxy for Zelda concentration, for example, we will write down this transient $\\beta(t)$ as the result of a simple diffusive process with form\n",
    "\n",
    "\\begin{equation}\n",
    "\\beta(t) = \\beta (1 - e^{-t / \\tau} )\n",
    "\\end{equation}\n",
    "\n",
    "Here, $\\beta$ is the asymptotic, saturating value of $\\beta(t)$, and $\\tau$ is the time constant governing the time-varying nature of the transition rate. For a diffusive process, $\\tau$ would be highly dependent on the diffusion constant, for example.\n",
    "\n",
    "For comparison, the time plots of the constant and transient input are shown below, for $\\tau = 3$ and $\\beta = 1$."
   ]
  },
  {
   "cell_type": "code",
   "execution_count": 14,
   "metadata": {},
   "outputs": [
    {
     "data": {
      "image/png": "[encoded data removed]",
      "text/plain": [
       "<Figure size 252x72 with 1 Axes>"
      ]
     },
     "metadata": {},
     "output_type": "display_data"
    }
   ],
   "source": [
    "#Looking at steady-state vs input transient profiles\n",
    "time = np.arange(0,10,0.1)\n",
    "dt = 0.1\n",
    "w_base = 1\n",
    "w_const = w_base * np.ones(time.shape)\n",
    "N_trans = 2\n",
    "N_cells = 1000\n",
    "\n",
    "#Now with transient exponential rate\n",
    "tau = 3\n",
    "w_trans = w_base * (1 - np.exp(-time / tau))\n",
    "\n",
    "#Plot the inputs\n",
    "TransientInputs = plt.figure()\n",
    "#plt.title('Input transition rate profiles')\n",
    "plt.plot(time,w_const,label='constant',color='tab:blue')\n",
    "plt.plot(time,w_trans,label='transient',color='tab:red')\n",
    "plt.xlabel('time')\n",
    "plt.ylabel('rate')\n",
    "plt.legend()\n",
    "StandardFigure(plt.gca())\n",
    "TransientInputs.set_figheight(1) #Make this figure short for formatting purposes\n",
    "plt.show()"
   ]
  },
  {
   "cell_type": "markdown",
   "metadata": {},
   "source": [
    "Because of the time-varying nature of $\\beta(t)$, the resulting distribution $P_k(t)$ for the case of equal, irreversible forward transition rates no longer obeys a simple Gamma distribution, and an analytical solution is difficult (or even impossible). Nevertheless, we can easily simulate the distributions numerically, shown below."
   ]
  },
  {
   "cell_type": "code",
   "execution_count": 162,
   "metadata": {},
   "outputs": [
    {
     "data": {
      "image/png": "[encoded data removed]",
      "text/plain": [
       "<Figure size 252x180 with 1 Axes>"
      ]
     },
     "metadata": {},
     "output_type": "display_data"
    }
   ],
   "source": [
    "#Let's visualize the distribution of onset times for the case of equal, irreversible forward transition rates,\n",
    "#comparing steady-state and transient input profiles, varying the \"diffusion\" constant tau\n",
    "\n",
    "#Pick some parameters\n",
    "beta = 1 #transition rate\n",
    "n = 3 #Number of states\n",
    "tau = np.array([1,3])\n",
    "\n",
    "#Simulate the distributions\n",
    "N_cells = 10000\n",
    "\n",
    "#Steady state\n",
    "Q_steady = MakeGammaDistMatrix(n, beta)\n",
    "t_on_steady = CalculatetOn_GenericMarkovChainGillespie(Q_steady,n,N_cells)\n",
    "\n",
    "#Transient\n",
    "t_on_trans = np.zeros((len(tau),N_cells))\n",
    "\n",
    "for i in range(len(tau)):\n",
    "    Q = MakeGammaDistMatrix(n, beta) #Transition matrix\n",
    "    t_on_trans[i,:] = CalculatetOn_GenericMarkovChainGillespieTime(Q,n,tau[i],N_cells)\n",
    "    \n",
    "#Plot results\n",
    "bins = np.arange(0,10,0.25)\n",
    "colors = ['tab:red','tab:green']\n",
    "TransientDist = plt.figure()\n",
    "#plt.title('Onset distributions for k=2 equal, irreversible transitions, steady-state vs. transient input')\n",
    "\n",
    "plt.hist(t_on_steady,bins=bins,density=True,alpha=0.5,label='steady state',\n",
    "         linewidth=0,color='tab:blue')\n",
    "for i in range(len(tau)):\n",
    "    plt.hist(t_on_trans[i,:],bins=bins,density=True,alpha=0.5,linewidth=0,\n",
    "             label='transient tau=' + str(tau[i]),color=colors[i])\n",
    "\n",
    "plt.xlabel('onset time')\n",
    "plt.ylabel('frequency')\n",
    "plt.legend()\n",
    "StandardFigure(plt.gca())\n",
    "plt.show()"
   ]
  },
  {
   "cell_type": "markdown",
   "metadata": {},
   "source": [
    "We see that increasing the time constant $\\tau$ results in a rightward shift of the onset time distribution, as expected since the time-varying transition rate profile will results in slower initial transition rates. What impact does this have on the noise? Below we show the feature space holding $k=2$ fixed while varying $\\tau$, and then holding $\\tau=3$ fixed and varying $k$."
   ]
  },
  {
   "cell_type": "code",
   "execution_count": 11,
   "metadata": {},
   "outputs": [
    {
     "data": {
      "image/png": "[encoded data removed]",
      "text/plain": [
       "<Figure size 252x180 with 1 Axes>"
      ]
     },
     "metadata": {},
     "output_type": "display_data"
    },
    {
     "data": {
      "image/png": "[encoded data removed]",
      "text/plain": [
       "<Figure size 252x180 with 1 Axes>"
      ]
     },
     "metadata": {},
     "output_type": "display_data"
    }
   ],
   "source": [
    "#Exploring the impact of transient inputs\n",
    "#First, fix k and vary tau\n",
    "n = 3 #number of states\n",
    "beta_min = 0.1\n",
    "beta_max = 5.1\n",
    "beta_step = 0.1\n",
    "beta_range = np.arange(beta_min,beta_max,beta_step)\n",
    "tau = np.arange(1,10,3)\n",
    "\n",
    "#Simulate the distributions\n",
    "N_cells = 5000\n",
    "\n",
    "#Steady state\n",
    "means_steady = np.zeros(len(beta_range))\n",
    "CV2s_steady = np.zeros(len(beta_range))\n",
    "for i in range(len(beta_range)):\n",
    "    Q = MakeGammaDistMatrix(n, beta_range[i])\n",
    "    t_on = CalculatetOn_GenericMarkovChainGillespie(Q,n,N_cells)\n",
    "    means_steady[i] = np.mean(t_on)\n",
    "    CV2s_steady[i] = np.var(t_on) / np.mean(t_on)**2\n",
    "\n",
    "#Transient\n",
    "means_trans = np.zeros((len(tau),len(beta_range)))\n",
    "CV2s_trans = np.zeros((len(tau),len(beta_range)))\n",
    "\n",
    "for i in range(len(tau)):\n",
    "    for j in range(len(beta_range)):\n",
    "        Q = MakeGammaDistMatrix(n, beta_range[j]) #Transition matrix\n",
    "        t_on = CalculatetOn_GenericMarkovChainGillespieTime(Q,n,tau[i],N_cells)\n",
    "        means_trans[i,j] = np.mean(t_on)\n",
    "        CV2s_trans[i,j] = np.var(t_on) / np.mean(t_on)**2\n",
    "    \n",
    "#Plot results\n",
    "colors = ['tab:blue','tab:red','tab:green']\n",
    "TransientFeatureSpaceFixedK = plt.figure()\n",
    "#plt.title('Investigation of transient inputs on feature space (k=2, tau varying)')\n",
    "plt.plot((n-1)/beta_range,(1/(n-1))*np.ones(beta_range.shape),\n",
    "         'k--',label='Gamma dist. limit in steady-state',color='black')\n",
    "plt.plot(means_steady,CV2s_steady,'k.',label='steady state simulation',color='black')\n",
    "    \n",
    "for i in range(len(tau)):\n",
    "    plt.plot(means_trans[i,:],CV2s_trans[i,:],'.',\n",
    "             label='transient simulation tau=' + str(tau[i]),color=colors[i])\n",
    "    \n",
    "plt.xlabel('mean')\n",
    "plt.ylabel('CV^2')\n",
    "plt.legend()\n",
    "StandardFigure(plt.gca())\n",
    "plt.show()\n",
    "\n",
    "#Now fix tau and vary k\n",
    "n =  np.array([2,3,4,5])\n",
    "tau = 3\n",
    "\n",
    "#Simulate the distributions\n",
    "N_cells = 5000\n",
    "\n",
    "#Transient\n",
    "means_trans = np.zeros((len(n),len(beta_range)))\n",
    "CV2s_trans = np.zeros((len(n),len(beta_range)))\n",
    "\n",
    "for i in range(len(n)):\n",
    "    for j in range(len(beta_range)):\n",
    "        Q = MakeGammaDistMatrix(n[i], beta_range[j]) #Transition matrix\n",
    "        t_on = CalculatetOn_GenericMarkovChainGillespieTime(Q,n[i],tau,N_cells)\n",
    "        means_trans[i,j] = np.mean(t_on)\n",
    "        CV2s_trans[i,j] = np.var(t_on) / np.mean(t_on)**2\n",
    "    \n",
    "#Plot results\n",
    "colors = ['black','tab:red','tab:green','tab:blue']\n",
    "TransientFeatureSpaceFixedTau = plt.figure()\n",
    "#plt.title('Investigation of transient inputs on feature space (k varying, tau=3)')\n",
    "\n",
    "for i in range(len(n)):\n",
    "    plt.plot((n[i]-1)/beta_range,(1/(n[i]-1))*np.ones(beta_range.shape),'--',\\\n",
    "             color=colors[i],label='steady state k=' + str(n[i]-1))\n",
    "    plt.plot(means_trans[i,:],CV2s_trans[i,:],'.',color=colors[i],\\\n",
    "             label='transient simulation k=' + str(n[i]-1))\n",
    "    \n",
    "plt.xlabel('mean')\n",
    "plt.ylabel('CV^2')\n",
    "plt.legend()\n",
    "StandardFigure(plt.gca())\n",
    "plt.show()"
   ]
  },
  {
   "cell_type": "markdown",
   "metadata": {},
   "source": [
    "In each case, the transient input reduces noise! It seems like for increasing $\\tau$, the performance improves. This makes intuitive sense because having a time-dependent input profile will make earlier transitions \"weaker,\" so transitions that happen before the expected time are less likely, tightening the overall distribution of onset times. The relevant timescale is the dimensionless ratio $\\frac{\\beta}{\\tau}$ - the faster the intrinsic transition rate $\\beta$ is to the transient input timescale $\\tau$, the larger the effects of the transient input. This manifests in the feature space for low values of the mean onset time, where the discrepancy between steady-state and transient is more apparent."
   ]
  },
  {
   "cell_type": "markdown",
   "metadata": {},
   "source": [
    "# Transient inputs can improve performance in non-ideal models\n",
    "Earlier, we saw that in the steady-state case, the presence of finite backwards transition rates decreased the overall performance of the model in terms of noise. The greater the backwards transition rates, the worse the performance got. Here, we'll show that having transient inputs can counteract this performance loss.\n",
    "\n",
    "As before, we'll assume a model with equal forward transition rates $\\beta$ and equal backward transition rates $\\beta f$. We'll compare the steady state case with the transient input case, parameterized with timescale $\\tau$. Note that we'll only consider the forward transition rates to be transient, and assume the backward transition rates are still time-independent. Biologically, this would correspond to the forward transitions corresponding to on-rates of some pioneer factor like Zelda that is coupled to a time-dependent concentration profile, while backward transitions are time-independent off-rates.\n",
    "\n",
    "Below, we explore the feature space in the steady-state vs. transient cases, with the steady-state ideal case of equal, irreversible transitions as a reference. We'll first consider the case fixing $k=2$ and $f=0.2$ and varying $\\tau$."
   ]
  },
  {
   "cell_type": "code",
   "execution_count": 165,
   "metadata": {},
   "outputs": [
    {
     "data": {
      "image/png": "[encoded data removed]",
      "text/plain": [
       "<Figure size 252x180 with 1 Axes>"
      ]
     },
     "metadata": {},
     "output_type": "display_data"
    }
   ],
   "source": [
    "#Setting up parameters\n",
    "n = 3\n",
    "beta_min = 0.1\n",
    "beta_max = 5.1\n",
    "beta_step = 0.1\n",
    "beta_range = np.arange(beta_min,beta_max,beta_step)\n",
    "f = 0.2\n",
    "tau = np.array([0.25,0.5,1,3])\n",
    "\n",
    "#Simulate results\n",
    "N_cells = 10000\n",
    "\n",
    "#Steady state\n",
    "means_steady = np.zeros(len(beta_range))\n",
    "CV2s_steady = np.zeros(len(beta_range))\n",
    "\n",
    "for i in range(len(beta_range)):\n",
    "    Q = MakeEqualBidirectionalMatrix(n,beta_range[i],f)\n",
    "    t_on = CalculatetOn_GenericMarkovChainGillespie(Q,n,N_cells)\n",
    "    means_steady[i] = np.mean(t_on)\n",
    "    CV2s_steady[i] = np.var(t_on) / np.mean(t_on)**2\n",
    "    \n",
    "#Transient\n",
    "means_trans = np.zeros((len(beta_range),len(tau)))\n",
    "CV2s_trans = np.zeros((len(beta_range),len(tau)))\n",
    "\n",
    "for i in range(len(beta_range)):\n",
    "    for j in range(len(tau)):\n",
    "        Q = MakeEqualBidirectionalMatrix(n,beta_range[i],f)\n",
    "        t_on =  CalculatetOn_GenericMarkovChainGillespieTime(Q,n,tau[j],N_cells)\n",
    "        means_trans[i,j] = np.mean(t_on)\n",
    "        CV2s_trans[i,j] = np.var(t_on) / np.mean(t_on)**2\n",
    "            \n",
    "#Plot results\n",
    "colors = ['tab:blue','tab:red','tab:green','tab:purple']\n",
    "TransientFeatureSpaceBackwards = plt.figure()\n",
    "#plt.title('Impact of transient inputs on feature space with backward rates (k=2, f=' + str(f) + ')')\n",
    "plt.plot((n-1)/beta_range,(1/(n-1))*np.ones(beta_range.shape),'k--',\n",
    "         label='Steady-state ideal limit')\n",
    "plt.plot(means_steady,CV2s_steady,'k.',label='Steady-state, f=' + str(f))\n",
    "\n",
    "for i in range(len(tau)):\n",
    "    plt.plot(means_trans[:,i],CV2s_trans[:,i],'.',\n",
    "             label='Transient, f=' + str(f) + ', tau=' + str(tau[i]),color=colors[i])\n",
    "    \n",
    "plt.xlabel('mean')\n",
    "plt.ylabel('CV^2')\n",
    "plt.legend()\n",
    "StandardFigure(plt.gca())\n",
    "plt.show()"
   ]
  },
  {
   "cell_type": "markdown",
   "metadata": {},
   "source": [
    "Interesting! As shown earlier, the steady-state case with a backwards transition rate is worse than the ideal limit with equal, irreversible forward rates. However, using a transient rate can counterbalance this and still achieve performance better than the ideal limit in the steady-state case.\n",
    "\n",
    "This suggests that given a backwards transition rate that is some fraction $f$ in magnitude of the forwards transition rate, there exists some \"diffusion\" timescale $\\tau$ of the input transition rate that can bring the squared CV back to the ideal steady-state limit with no backwards rates."
   ]
  },
  {
   "cell_type": "code",
   "execution_count": 16,
   "metadata": {},
   "outputs": [
    {
     "ename": "NameError",
     "evalue": "name 'TransientInputs' is not defined",
     "output_type": "error",
     "traceback": [
      "\u001b[0;31m---------------------------------------------------------------------------\u001b[0m",
      "\u001b[0;31mNameError\u001b[0m                                 Traceback (most recent call last)",
      "\u001b[0;32m<ipython-input-16-244339bc4b02>\u001b[0m in \u001b[0;36m<module>\u001b[0;34m\u001b[0m\n\u001b[1;32m      5\u001b[0m \u001b[0mBackwardsDist\u001b[0m\u001b[0;34m.\u001b[0m\u001b[0msavefig\u001b[0m\u001b[0;34m(\u001b[0m\u001b[0;34m'figures/BackwardsDist.pdf'\u001b[0m\u001b[0;34m)\u001b[0m\u001b[0;34m\u001b[0m\u001b[0;34m\u001b[0m\u001b[0m\n\u001b[1;32m      6\u001b[0m \u001b[0mBackwardsFeatureSpace\u001b[0m\u001b[0;34m.\u001b[0m\u001b[0msavefig\u001b[0m\u001b[0;34m(\u001b[0m\u001b[0;34m'figures/BackwardsFigureSpace.pdf'\u001b[0m\u001b[0;34m)\u001b[0m\u001b[0;34m\u001b[0m\u001b[0;34m\u001b[0m\u001b[0m\n\u001b[0;32m----> 7\u001b[0;31m \u001b[0mTransientInputs\u001b[0m\u001b[0;34m.\u001b[0m\u001b[0msavefig\u001b[0m\u001b[0;34m(\u001b[0m\u001b[0;34m'figures/TransientInputs.pdf'\u001b[0m\u001b[0;34m)\u001b[0m\u001b[0;34m\u001b[0m\u001b[0;34m\u001b[0m\u001b[0m\n\u001b[0m\u001b[1;32m      8\u001b[0m \u001b[0mTransientDist\u001b[0m\u001b[0;34m.\u001b[0m\u001b[0msavefig\u001b[0m\u001b[0;34m(\u001b[0m\u001b[0;34m'figures/TransientDist.pdf'\u001b[0m\u001b[0;34m)\u001b[0m\u001b[0;34m\u001b[0m\u001b[0;34m\u001b[0m\u001b[0m\n\u001b[1;32m      9\u001b[0m \u001b[0mTransientFeatureSpaceFixedK\u001b[0m\u001b[0;34m.\u001b[0m\u001b[0msavefig\u001b[0m\u001b[0;34m(\u001b[0m\u001b[0;34m'figures/TransientFeatureSpaceFixedK.pdf'\u001b[0m\u001b[0;34m)\u001b[0m\u001b[0;34m\u001b[0m\u001b[0;34m\u001b[0m\u001b[0m\n",
      "\u001b[0;31mNameError\u001b[0m: name 'TransientInputs' is not defined"
     ]
    }
   ],
   "source": [
    "# Export figures\n",
    "\n",
    "ToyModelDist.savefig('figures/ToyModelDist.pdf')\n",
    "ToyModelFeatureSpace.savefig('figures/ToyModelFeatureSpace.pdf')\n",
    "BackwardsDist.savefig('figures/BackwardsDist.pdf')\n",
    "BackwardsFeatureSpace.savefig('figures/BackwardsFigureSpace.pdf')\n",
    "TransientInputs.savefig('figures/TransientInputs.pdf')\n",
    "TransientDist.savefig('figures/TransientDist.pdf')\n",
    "TransientFeatureSpaceFixedK.savefig('figures/TransientFeatureSpaceFixedK.pdf')\n",
    "TransientFeatureSpaceFixedTau.savefig('figures/TransientFeatureSpaceFixedTau.pdf')\n",
    "TransientFeatureSpaceBackwards.savefig('figures/TransientFeatureSpaceBackwards.pdf')"
   ]
  },
  {
   "cell_type": "code",
   "execution_count": null,
   "metadata": {},
   "outputs": [],
   "source": []
  }
 ],
 "metadata": {
  "kernelspec": {
   "display_name": "Python 3",
   "language": "python",
   "name": "python3"
  },
  "language_info": {
   "codemirror_mode": {
    "name": "ipython",
    "version": 3
   },
   "file_extension": ".py",
   "mimetype": "text/x-python",
   "name": "python",
   "nbconvert_exporter": "python",
   "pygments_lexer": "ipython3",
   "version": "3.8.3"
  }
 },
 "nbformat": 4,
 "nbformat_minor": 4
}
